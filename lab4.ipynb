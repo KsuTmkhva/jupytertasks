{
 "cells": [
  {
   "cell_type": "code",
   "execution_count": 3,
   "id": "1b3bbd16-9091-4086-87cc-71d92d213e87",
   "metadata": {},
   "outputs": [
    {
     "name": "stdout",
     "output_type": "stream",
     "text": [
      "1\n"
     ]
    }
   ],
   "source": [
    "N = ord(\"K\") % 3 + 1\n",
    "print(f\"{N}\")"
   ]
  },
  {
   "cell_type": "code",
   "execution_count": 2,
   "id": "91568adf-20d1-43d9-ab38-9bb3a06ad41e",
   "metadata": {},
   "outputs": [
    {
     "name": "stdout",
     "output_type": "stream",
     "text": [
      "7\n",
      "Ксенія, 19 років, не студент\n",
      "10\n"
     ]
    }
   ],
   "source": [
    "from datetime import datetime\n",
    "\n",
    "def my_decorator(func):\n",
    "    def wrapper(*args, **kwargs):\n",
    "        call_time = datetime.now()\n",
    "        result = func(*args, **kwargs)\n",
    "\n",
    "        with open('logging.txt', 'a', encoding=\"utf-8\") as file:\n",
    "            file.write(f\"Функція: {func.__name__}\\n\"\n",
    "                        f\"Час виклику функції: {call_time}\\n\"\n",
    "                        f\"Параметри: позиційні={args}, іменовані={kwargs}\\n\"\n",
    "                        f\"Результат: {result}\\n\"\n",
    "                        f\"\\n\")\n",
    "        return result\n",
    "    return wrapper\n",
    "\n",
    "@my_decorator\n",
    "def add(a, b):\n",
    "    return a + b\n",
    "\n",
    "@my_decorator\n",
    "def person_info(name, age, is_student=False):\n",
    "    if is_student:\n",
    "        status = \"студент\" \n",
    "    else:\n",
    "        status = \"не студент\"\n",
    "    return f\"{name}, {age} років, {status}\"\n",
    "\n",
    "@my_decorator\n",
    "def find_max(numbers):\n",
    "    return max(numbers)\n",
    "\n",
    "print(add(1, 6))\n",
    "print(person_info(\"Ксенія\", 19, is_student=False))\n",
    "print(find_max([1, 10, 1, 2, 1]))"
   ]
  },
  {
   "cell_type": "code",
   "execution_count": null,
   "id": "cb3d794c-4e31-4366-ace7-c9b3c3d934e5",
   "metadata": {},
   "outputs": [],
   "source": []
  }
 ],
 "metadata": {
  "kernelspec": {
   "display_name": "Python 3 (ipykernel)",
   "language": "python",
   "name": "python3"
  },
  "language_info": {
   "codemirror_mode": {
    "name": "ipython",
    "version": 3
   },
   "file_extension": ".py",
   "mimetype": "text/x-python",
   "name": "python",
   "nbconvert_exporter": "python",
   "pygments_lexer": "ipython3",
   "version": "3.11.9"
  }
 },
 "nbformat": 4,
 "nbformat_minor": 5
}
