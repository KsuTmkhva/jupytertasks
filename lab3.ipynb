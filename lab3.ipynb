{
 "cells": [
  {
   "cell_type": "code",
   "execution_count": 1,
   "id": "52a5a4dc-797c-4680-a590-18fb83ff8512",
   "metadata": {},
   "outputs": [],
   "source": [
    "from abc import ABC, abstractmethod\n",
    "from datetime import datetime\n",
    "\n",
    "class Vehicle(ABC):\n",
    "    def __init__(self, brand_name, year_of_issue, base_price, mileage):\n",
    "\n",
    "        MAX_PRICE = 100_000_000\n",
    "        # Перевірка типів (Б)\n",
    "        if not isinstance(year_of_issue, int):\n",
    "            raise ValueError(\"Рік випуску повинен бути цілим числом\")\n",
    "\n",
    "        if not isinstance(base_price, (int, float)):\n",
    "            raise ValueError(\"Базова ціна має бути числом\")\n",
    "\n",
    "        if not isinstance(mileage, (int, float)):\n",
    "             raise ValueError(\"Пробіг має бути числом\")\n",
    "\n",
    "        # Перевірка на межі (А)\n",
    "        current_year = datetime.now().year\n",
    "        if not (1900 <= year_of_issue <= current_year):\n",
    "            raise ValueError(f\"Рік випуску повинен бути в діапазоні від 1900 до {current_year}\")\n",
    "\n",
    "        if base_price < 0:\n",
    "            raise ValueError(\"Базова ціна не може бути від'ємною\")\n",
    "\n",
    "        if mileage < 0:\n",
    "            raise ValueError(\"Пробіг не може бути від'ємним\")\n",
    "\n",
    "         # Перевірка на коректність (В)\n",
    "        if current_year - year_of_issue > 100:\n",
    "            raise ValueError(\"Автомобіль надто старий (більше 100 років)\")\n",
    "            \n",
    "        if mileage > 10_000_000:\n",
    "            raise ValueError(\"Пробіг надто великий\")\n",
    "\n",
    "         # Додаткові вимоги (Д)\n",
    "        if base_price > MAX_PRICE:\n",
    "            raise ValueError(f\"Ціна перевищує максимально допустиму ({MAX_PRICE})\")\n",
    "        \n",
    "        self._brand_name = brand_name      \n",
    "        self.__year_of_issue = year_of_issue \n",
    "        self.__base_price = base_price      \n",
    "        self._mileage = mileage\n",
    "\n",
    "\n",
    "    @classmethod\n",
    "    def to_string(cls, data: str):\n",
    "        try:\n",
    "            brand, year, price, mileage = data.split(\",\")\n",
    "        except ValueError:\n",
    "            raise ValueError(\"Рядок має містити 4 значення, розділені комами\")\n",
    "\n",
    "        return cls(\n",
    "            brand.strip(),\n",
    "            int(year.strip()),\n",
    "            float(price.strip()),\n",
    "            float(mileage.strip())\n",
    "        )\n",
    "        \n",
    "    # Доступ до приватних та захищених змінних\n",
    "    @property\n",
    "    def brand_name(self):\n",
    "        return self._brand_name\n",
    "\n",
    "    @brand_name.setter\n",
    "    def brand_name(self, value):\n",
    "        if not value:\n",
    "            raise ValueError(\"Введіть назву бренду\")\n",
    "        self._brand_name = value\n",
    "\n",
    "    @property\n",
    "    def year_of_issue(self):\n",
    "        return self.__year_of_issue\n",
    "\n",
    "    @year_of_issue.setter\n",
    "    def year_of_issue(self, value):\n",
    "        current_year = datetime.now().year\n",
    "        if not (1900 <= value <= current_year):\n",
    "            raise ValueError(f\"Рік випуску повинен бути в діапазоні від 1900 до {current_year}\")\n",
    "        self.__year_of_issue = value\n",
    "\n",
    "    @property\n",
    "    def base_price(self):\n",
    "        return self.__base_price\n",
    "\n",
    "    @base_price.setter\n",
    "    def base_price(self, value):\n",
    "        if value < 0:\n",
    "            raise ValueError(\"Базова ціна повинна бути додатнім числом\")\n",
    "        self.__base_price = value\n",
    "\n",
    "    @property\n",
    "    def mileage(self):\n",
    "        return self._mileage\n",
    "\n",
    "    @mileage.setter\n",
    "    def mileage(self, value):\n",
    "        if value < 0:\n",
    "            raise ValueError(\"Пробіг має бути додатнім числом\")\n",
    "        self._mileage = value\n",
    "    \n",
    "    @property\n",
    "    def vehicle_type(self) -> str:\n",
    "        return f\"{self.brand_name} {self.__class__.__name__}\"\n",
    "\n",
    "    @property\n",
    "    @abstractmethod\n",
    "    def wheels(self) -> int:\n",
    "        pass\n",
    "\n",
    "    @property\n",
    "    def is_motorcycle(self) -> bool:\n",
    "        if self.wheels == 2:\n",
    "            return True\n",
    "        else:\n",
    "            return False\n",
    "\n",
    "    @property\n",
    "    def purchase_price(self) -> int:\n",
    "        price = self.base_price - 0.1 * self.mileage\n",
    "        if price < 5000:\n",
    "            return 5000\n",
    "        else:\n",
    "            return price\n",
    "            \n",
    "class Car(Vehicle):\n",
    "    @property\n",
    "    def wheels(self) -> int:\n",
    "        return 4\n",
    "\n",
    "    def __add__(self, other):\n",
    "        total_mileage = self.mileage + other.mileage\n",
    "        total_base_price = self.base_price + other.base_price\n",
    "        return f\"Сумарна базова ціна: {total_base_price}, Сумарний пробіг: {total_mileage}\"\n",
    "        \n",
    "class Motorcycle(Vehicle):\n",
    "    @property\n",
    "    def wheels(self) -> int:\n",
    "        return 2\n",
    "\n",
    "class Truck(Vehicle):\n",
    "    @property\n",
    "    def wheels(self) -> int:\n",
    "        return 8\n",
    "\n",
    "class Bus(Vehicle):\n",
    "    @property\n",
    "    def wheels(self) -> int:\n",
    "        return 6"
   ]
  },
  {
   "cell_type": "code",
   "execution_count": 8,
   "id": "4ca21b4b-7835-4a58-81e5-3679bca8646b",
   "metadata": {},
   "outputs": [
    {
     "name": "stdout",
     "output_type": "stream",
     "text": [
      "Бренд: Toyota\n",
      "Рік випуску: 1980\n",
      "Базова ціна: 10000 \n",
      "Пробіг: 50000 км\n",
      "Тип: Toyota Car\n",
      "Ціна покупки: 5000.0 \n"
     ]
    }
   ],
   "source": [
    "car = Car(\"Toyota\", 1980, 10000, 50000)\n",
    "\n",
    "print(f\"Бренд: {car.brand_name}\")\n",
    "print(f\"Рік випуску: {car.year_of_issue}\")\n",
    "print(f\"Базова ціна: {car.base_price} \")\n",
    "print(f\"Пробіг: {car.mileage} км\")\n",
    "print(f\"Тип: {car.vehicle_type}\")\n",
    "print(f\"Ціна покупки: {car.purchase_price} \")"
   ]
  },
  {
   "cell_type": "code",
   "execution_count": 9,
   "id": "0ba8a8ff-8321-4c8a-93d2-3036edb5eb66",
   "metadata": {},
   "outputs": [
    {
     "ename": "ValueError",
     "evalue": "Рік випуску повинен бути в діапазоні від 1900 до 2025",
     "output_type": "error",
     "traceback": [
      "\u001b[31m---------------------------------------------------------------------------\u001b[39m",
      "\u001b[31mValueError\u001b[39m                                Traceback (most recent call last)",
      "\u001b[36mCell\u001b[39m\u001b[36m \u001b[39m\u001b[32mIn[9]\u001b[39m\u001b[32m, line 1\u001b[39m\n\u001b[32m----> \u001b[39m\u001b[32m1\u001b[39m \u001b[43mcar\u001b[49m\u001b[43m.\u001b[49m\u001b[43myear_of_issue\u001b[49m = \u001b[32m1800\u001b[39m\n\u001b[32m      3\u001b[39m \u001b[38;5;28mprint\u001b[39m(\u001b[33mf\u001b[39m\u001b[33m\"\u001b[39m\u001b[33mБренд: \u001b[39m\u001b[38;5;132;01m{\u001b[39;00mcar.brand_name\u001b[38;5;132;01m}\u001b[39;00m\u001b[33m\"\u001b[39m)\n\u001b[32m      4\u001b[39m \u001b[38;5;28mprint\u001b[39m(\u001b[33mf\u001b[39m\u001b[33m\"\u001b[39m\u001b[33mРік випуску: \u001b[39m\u001b[38;5;132;01m{\u001b[39;00mcar.year_of_issue\u001b[38;5;132;01m}\u001b[39;00m\u001b[33m\"\u001b[39m)\n",
      "\u001b[36mCell\u001b[39m\u001b[36m \u001b[39m\u001b[32mIn[7]\u001b[39m\u001b[32m, line 79\u001b[39m, in \u001b[36mVehicle.year_of_issue\u001b[39m\u001b[34m(self, value)\u001b[39m\n\u001b[32m     77\u001b[39m current_year = datetime.now().year\n\u001b[32m     78\u001b[39m \u001b[38;5;28;01mif\u001b[39;00m \u001b[38;5;129;01mnot\u001b[39;00m (\u001b[32m1900\u001b[39m <= value <= current_year):\n\u001b[32m---> \u001b[39m\u001b[32m79\u001b[39m     \u001b[38;5;28;01mraise\u001b[39;00m \u001b[38;5;167;01mValueError\u001b[39;00m(\u001b[33mf\u001b[39m\u001b[33m\"\u001b[39m\u001b[33mРік випуску повинен бути в діапазоні від 1900 до \u001b[39m\u001b[38;5;132;01m{\u001b[39;00mcurrent_year\u001b[38;5;132;01m}\u001b[39;00m\u001b[33m\"\u001b[39m)\n\u001b[32m     80\u001b[39m \u001b[38;5;28mself\u001b[39m.__year_of_issue = value\n",
      "\u001b[31mValueError\u001b[39m: Рік випуску повинен бути в діапазоні від 1900 до 2025"
     ]
    }
   ],
   "source": [
    "car.year_of_issue = 1800\n",
    "\n",
    "print(f\"Бренд: {car.brand_name}\")\n",
    "print(f\"Рік випуску: {car.year_of_issue}\")\n",
    "print(f\"Базова ціна: {car.base_price} \")\n",
    "print(f\"Пробіг: {car.mileage} км\")\n",
    "print(f\"Тип: {car.vehicle_type}\")\n",
    "print(f\"Ціна покупки: {car.purchase_price} \")\n",
    "print(f\"Мотоцикл: {car.is_motorcycle}\")"
   ]
  },
  {
   "cell_type": "code",
   "execution_count": 10,
   "id": "611253db-8a62-4ac0-b0f1-592f002832d0",
   "metadata": {},
   "outputs": [
    {
     "name": "stdout",
     "output_type": "stream",
     "text": [
      "Vehicle type=Toyota Car\n",
      "Is motorcycle=False\n",
      "Purchase price=985000.0\n",
      "\n",
      "Vehicle type=Suzuki Motorcycle\n",
      "Is motorcycle=True\n",
      "Purchase price=796500.0\n",
      "\n",
      "Vehicle type=Scania Truck\n",
      "Is motorcycle=False\n",
      "Purchase price=14915000.0\n",
      "\n",
      "Vehicle type=MAN Bus\n",
      "Is motorcycle=False\n",
      "Purchase price=9905000.0\n",
      "\n"
     ]
    }
   ],
   "source": [
    "vehicles = (\n",
    "    Car(brand_name=\"Toyota\", year_of_issue=2020, base_price=1_000_000, mileage=150_000),\n",
    "    Motorcycle(brand_name=\"Suzuki\", year_of_issue=2015, base_price=800_000, mileage=35_000),\n",
    "    Truck(brand_name=\"Scania\", year_of_issue=2018, base_price=15_000_000, mileage=850_000),\n",
    "    Bus(brand_name=\"MAN\", year_of_issue=2000, base_price=10_000_000, mileage=950_000),\n",
    ")\n",
    "\n",
    "for vehicle in vehicles:\n",
    "    print(\n",
    "        f\"Vehicle type={vehicle.vehicle_type}\\n\"\n",
    "        f\"Is motorcycle={vehicle.is_motorcycle}\\n\"\n",
    "        f\"Purchase price={vehicle.purchase_price}\\n\"\n",
    "    )"
   ]
  },
  {
   "cell_type": "code",
   "execution_count": 20,
   "id": "a6dccff9-3ea6-48d7-8983-5487b6b0309e",
   "metadata": {},
   "outputs": [
    {
     "name": "stdout",
     "output_type": "stream",
     "text": [
      "Бренд: Audi\n",
      "Рік випуску: 2018\n",
      "Базова ціна: 35000.0 \n",
      "Пробіг: 50000.0 км\n",
      "Тип: Audi Car\n",
      "Ціна покупки: 30000.0 \n"
     ]
    }
   ],
   "source": [
    "car2 = Car.to_string(\"Audi, 2018, 35000, 50000\")\n",
    "print(f\"Бренд: {car2.brand_name}\")\n",
    "print(f\"Рік випуску: {car2.year_of_issue}\")\n",
    "print(f\"Базова ціна: {car2.base_price} \")\n",
    "print(f\"Пробіг: {car2.mileage} км\")\n",
    "print(f\"Тип: {car2.vehicle_type}\")\n",
    "print(f\"Ціна покупки: {car2.purchase_price} \")"
   ]
  },
  {
   "cell_type": "code",
   "execution_count": 17,
   "id": "bf5d4f81-577b-4017-a979-b990f42bdd2e",
   "metadata": {},
   "outputs": [
    {
     "name": "stdout",
     "output_type": "stream",
     "text": [
      "Сумарна базова ціна: 20500, Сумарний пробіг: 100500\n"
     ]
    }
   ],
   "source": [
    "car1 = Car(\"Toyota\", 1980, 10_000, 50_000)\n",
    "car2 = Car(\"BMW\", 2010, 10_500, 50_500)\n",
    "\n",
    "print(car1 + car2)"
   ]
  }
 ],
 "metadata": {
  "kernelspec": {
   "display_name": "Python 3 (ipykernel)",
   "language": "python",
   "name": "python3"
  },
  "language_info": {
   "codemirror_mode": {
    "name": "ipython",
    "version": 3
   },
   "file_extension": ".py",
   "mimetype": "text/x-python",
   "name": "python",
   "nbconvert_exporter": "python",
   "pygments_lexer": "ipython3",
   "version": "3.11.9"
  }
 },
 "nbformat": 4,
 "nbformat_minor": 5
}
