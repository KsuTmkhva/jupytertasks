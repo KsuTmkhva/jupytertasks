{
 "cells": [
  {
   "cell_type": "markdown",
   "id": "ce61ff0a-9723-4266-8957-25fd5a7f9db0",
   "metadata": {},
   "source": [
    "# Лабораторна робота 5"
   ]
  },
  {
   "cell_type": "code",
   "execution_count": 3,
   "id": "11d21f96-5e1f-438a-aaf6-1dca76109017",
   "metadata": {},
   "outputs": [
    {
     "name": "stdout",
     "output_type": "stream",
     "text": [
      "1\n"
     ]
    }
   ],
   "source": [
    "N = ord(\"K\") % 15 + 1\n",
    "print(f\"{N}\")"
   ]
  },
  {
   "cell_type": "markdown",
   "id": "35c0a98a-fbbe-49b8-b688-5e2cfe0e6fd0",
   "metadata": {},
   "source": [
    "### Завдання 1\n",
    "\n",
    "1. Виконати набір вправ. Всі завдання виконати 2 способами:\n",
    "   а) з використанням універсальних функцій бібліотеки NumPy [4].\n",
    "   b) за допомогою ітеративних конструкцій (з використанням циклів,\n",
    "спискових включень тощо).\n",
    "    с) для обох випадків підрахувати час виконання скрипту та зробити\n",
    "висновок.\n",
    "\n",
    "#### Вправа 1. \n",
    "Вводиться число n. Вивести масив разміра nхn, в якому по\n",
    "діагоналі йдуть числа від 1 до n, а інші числа рівні 0"
   ]
  },
  {
   "cell_type": "code",
   "execution_count": 19,
   "id": "1e1a747b-6948-4214-9e34-c6738d308ff4",
   "metadata": {},
   "outputs": [],
   "source": [
    "import numpy as np\n",
    "import time\n",
    "\n",
    "def task1_numpy():\n",
    "    n = int(input(\"Введіть n: \"))\n",
    "    start = time.time()\n",
    "    arr = np.diag(np.arange(1, n + 1))\n",
    "    end = time.time()\n",
    "    print(arr)\n",
    "    print(\"Час виконання (NumPy):\", end - start)\n",
    "\n",
    "def task1_iter():\n",
    "    n = int(input(\"Введіть n: \"))\n",
    "    start = time.time()\n",
    "    arr = [[i + 1 if i == j else 0 for j in range(n)] for i in range(n)]\n",
    "    end = time.time()\n",
    "    for row in arr: print(row)\n",
    "    print(\"Час виконання:\", end - start)"
   ]
  },
  {
   "cell_type": "code",
   "execution_count": 20,
   "id": "4d68c1a3-390e-49fe-813e-0e0a156f42bc",
   "metadata": {},
   "outputs": [
    {
     "name": "stdin",
     "output_type": "stream",
     "text": [
      "Введіть n:  5\n"
     ]
    },
    {
     "name": "stdout",
     "output_type": "stream",
     "text": [
      "[[1 0 0 0 0]\n",
      " [0 2 0 0 0]\n",
      " [0 0 3 0 0]\n",
      " [0 0 0 4 0]\n",
      " [0 0 0 0 5]]\n",
      "Час виконання (NumPy): 8.916854858398438e-05\n"
     ]
    },
    {
     "name": "stdin",
     "output_type": "stream",
     "text": [
      "Введіть n:  5\n"
     ]
    },
    {
     "name": "stdout",
     "output_type": "stream",
     "text": [
      "[1, 0, 0, 0, 0]\n",
      "[0, 2, 0, 0, 0]\n",
      "[0, 0, 3, 0, 0]\n",
      "[0, 0, 0, 4, 0]\n",
      "[0, 0, 0, 0, 5]\n",
      "Час виконання: 1.0967254638671875e-05\n"
     ]
    }
   ],
   "source": [
    "task1_numpy()\n",
    "task1_iter()"
   ]
  },
  {
   "cell_type": "markdown",
   "id": "81a50b16-78c4-4004-9b81-59badeec0ac2",
   "metadata": {},
   "source": [
    "#### Вправа 6. \n",
    "З клавіатури вводиться масив. Замінити всі ненульові елементи на -1."
   ]
  },
  {
   "cell_type": "code",
   "execution_count": 34,
   "id": "a664525f-8872-44cf-a3d8-1eec93ce5927",
   "metadata": {},
   "outputs": [],
   "source": [
    "def task6_numpy():\n",
    "    arr = np.array(list(map(int, input(\"Введіть масив: \").split())))\n",
    "    start = time.time()\n",
    "    arr[arr != 0] = -1\n",
    "    end = time.time()\n",
    "    print(arr)\n",
    "    print(\"Час виконання (NumPy):\", end - start)\n",
    "\n",
    "def task6_iter():\n",
    "    arr = list(map(int, input(\"Введіть масив: \").split()))\n",
    "    start = time.time()\n",
    "    result = [-1 if x != 0 else 0 for x in arr]\n",
    "    end = time.time()\n",
    "    print(result)\n",
    "    print(\"Час виконання:\", end - start)"
   ]
  },
  {
   "cell_type": "code",
   "execution_count": 32,
   "id": "ab6fc840-013b-4f82-8766-0483a409140a",
   "metadata": {},
   "outputs": [
    {
     "name": "stdin",
     "output_type": "stream",
     "text": [
      "Введіть масив:  3 4 0 9 7 0 6 0 4 0 3\n"
     ]
    },
    {
     "name": "stdout",
     "output_type": "stream",
     "text": [
      "[-1 -1  0 -1 -1  0 -1  0 -1  0 -1]\n",
      "Час виконання (NumPy): 3.981590270996094e-05\n"
     ]
    },
    {
     "name": "stdin",
     "output_type": "stream",
     "text": [
      "Введіть масив:  3 4 0 9 7 0 6 0 4 0 3\n"
     ]
    },
    {
     "name": "stdout",
     "output_type": "stream",
     "text": [
      "[-1, -1, 0, -1, -1, 0, -1, 0, -1, 0, -1]\n",
      "Час виконання: 4.76837158203125e-06\n"
     ]
    }
   ],
   "source": [
    "task6_numpy()\n",
    "task6_iter()"
   ]
  },
  {
   "cell_type": "markdown",
   "id": "5cdc85b4-bea6-4f44-b83c-2703e12a35f4",
   "metadata": {},
   "source": [
    "#### Вправа 7. \n",
    "З клавіатури вводиться масив. Замінити всі нульові елементи на -1."
   ]
  },
  {
   "cell_type": "code",
   "execution_count": 35,
   "id": "72ead661-ac39-4f84-bc2b-d2a16db0b47c",
   "metadata": {},
   "outputs": [],
   "source": [
    "def task7_numpy():\n",
    "    arr = np.array(list(map(int, input(\"Введіть масив: \").split())))\n",
    "    start = time.time()\n",
    "    arr[arr == 0] = -1\n",
    "    end = time.time()\n",
    "    print(arr)\n",
    "    print(\"Час виконання (NumPy):\", end - start)\n",
    "\n",
    "def task7_iter():\n",
    "    arr = list(map(int, input(\"Введіть масив: \").split()))\n",
    "    start = time.time()\n",
    "    result = [-1 if x == 0 else x for x in arr]\n",
    "    end = time.time()\n",
    "    print(result)\n",
    "    print(\"Час виконання:\", end - start)"
   ]
  },
  {
   "cell_type": "code",
   "execution_count": 36,
   "id": "e05ffb2e-7433-49a4-90d6-e8c4883cbf6d",
   "metadata": {},
   "outputs": [
    {
     "name": "stdin",
     "output_type": "stream",
     "text": [
      "Введіть масив:  3 4 0 6 5 0 3 0 4\n"
     ]
    },
    {
     "name": "stdout",
     "output_type": "stream",
     "text": [
      "[ 3  4 -1  6  5 -1  3 -1  4]\n",
      "Час виконання (NumPy): 0.0001518726348876953\n"
     ]
    },
    {
     "name": "stdin",
     "output_type": "stream",
     "text": [
      "Введіть масив:  3 4 0 6 5 0 3 0 4\n"
     ]
    },
    {
     "name": "stdout",
     "output_type": "stream",
     "text": [
      "[3, 4, -1, 6, 5, -1, 3, -1, 4]\n",
      "Час виконання: 5.0067901611328125e-06\n"
     ]
    }
   ],
   "source": [
    "task7_numpy()\n",
    "task7_iter()"
   ]
  },
  {
   "cell_type": "markdown",
   "id": "f6056623-a253-4dcd-9e38-b8078b96db22",
   "metadata": {},
   "source": [
    "#### Вправа 9. \n",
    "Вводиться число n. Створити масив значень від n до 0."
   ]
  },
  {
   "cell_type": "code",
   "execution_count": 37,
   "id": "4cf550ca-184a-4dd5-8841-ec43ba02dfd4",
   "metadata": {},
   "outputs": [],
   "source": [
    "def task9_numpy():\n",
    "    n = int(input(\"Введіть n: \"))\n",
    "    start = time.time()\n",
    "    arr = np.arange(n, -1, -1)\n",
    "    end = time.time()\n",
    "    print(arr)\n",
    "    print(\"Час виконання (NumPy):\", end - start)\n",
    "\n",
    "def task9_iter():\n",
    "    n = int(input(\"Введіть n: \"))\n",
    "    start = time.time()\n",
    "    arr = [i for i in range(n, -1, -1)]\n",
    "    end = time.time()\n",
    "    print(arr)\n",
    "    print(\"Час виконання:\", end - start)"
   ]
  },
  {
   "cell_type": "code",
   "execution_count": 38,
   "id": "6c6a60e8-79ef-4912-a1d4-f30a7ae8cbd6",
   "metadata": {},
   "outputs": [
    {
     "name": "stdin",
     "output_type": "stream",
     "text": [
      "Введіть n:  10\n"
     ]
    },
    {
     "name": "stdout",
     "output_type": "stream",
     "text": [
      "[10  9  8  7  6  5  4  3  2  1  0]\n",
      "Час виконання (NumPy): 0.0002090930938720703\n"
     ]
    },
    {
     "name": "stdin",
     "output_type": "stream",
     "text": [
      "Введіть n:  10\n"
     ]
    },
    {
     "name": "stdout",
     "output_type": "stream",
     "text": [
      "[10, 9, 8, 7, 6, 5, 4, 3, 2, 1, 0]\n",
      "Час виконання: 2.5033950805664062e-05\n"
     ]
    }
   ],
   "source": [
    "task9_numpy()\n",
    "task9_iter()"
   ]
  },
  {
   "cell_type": "markdown",
   "id": "0134182c-f1ad-4406-b09a-b4c0aac0cf45",
   "metadata": {},
   "source": [
    "#### Вправа 10. \n",
    "Вводиться числа n i m. Створити масив випадкових значень n на m\n",
    "і обчислити мінімальне, максимальне значення, середнє та середньо\n",
    "квадратичне відхилення, округлене до 3 знаків після коми"
   ]
  },
  {
   "cell_type": "code",
   "execution_count": 44,
   "id": "612056a5-0726-48b0-9205-8dd6313a5d97",
   "metadata": {},
   "outputs": [],
   "source": [
    "import random\n",
    "\n",
    "def task10_numpy():\n",
    "    n, m = map(int, input(\"Введіть n і m: \").split())\n",
    "    start = time.time()\n",
    "    arr = np.random.rand(n, m)\n",
    "    print(\"Мінімум:\", round(np.min(arr), 3))\n",
    "    print(\"Максимум:\", round(np.max(arr), 3))\n",
    "    print(\"Середнє:\", round(np.mean(arr), 3))\n",
    "    print(\"Дисперсія:\", round(np.var(arr), 3))\n",
    "    end = time.time()\n",
    "    print(\"Час виконання (NumPy):\", end - start)\n",
    "\n",
    "def task10_iter():\n",
    "    n, m = map(int, input(\"Введіть n і m: \").split())\n",
    "    start = time.time()\n",
    "    arr = [[random.random() for i in range(m)] for i in range(n)]\n",
    "    arr2 = [x for row in arr for x in row]\n",
    "    mean = sum(arr2) / len(arr2)\n",
    "    variance = sum((x - mean)**2 for x in arr2) / len(arr2)\n",
    "    print(\"Мінімум:\", round(min(arr2), 3))\n",
    "    print(\"Максимум:\", round(max(arr2), 3))\n",
    "    print(\"Середнє:\", round(mean, 3))\n",
    "    print(\"Дисперсія:\", round(variance, 3))\n",
    "    end = time.time()\n",
    "    print(\"Час виконання:\", end - start)"
   ]
  },
  {
   "cell_type": "code",
   "execution_count": 45,
   "id": "fc8a6e86-3a33-4782-ac23-eda87652ea2c",
   "metadata": {
    "jp-MarkdownHeadingCollapsed": true
   },
   "outputs": [
    {
     "name": "stdin",
     "output_type": "stream",
     "text": [
      "Введіть n і m:  4 5\n"
     ]
    },
    {
     "name": "stdout",
     "output_type": "stream",
     "text": [
      "Мінімум: 0.103\n",
      "Максимум: 0.997\n",
      "Середнє: 0.513\n",
      "Дисперсія: 0.083\n",
      "Час виконання (NumPy): 0.0005519390106201172\n"
     ]
    },
    {
     "name": "stdin",
     "output_type": "stream",
     "text": [
      "Введіть n і m:  4 5\n"
     ]
    },
    {
     "name": "stdout",
     "output_type": "stream",
     "text": [
      "Мінімум: 0.052\n",
      "Максимум: 0.896\n",
      "Середнє: 0.4\n",
      "Дисперсія: 0.05\n",
      "Час виконання: 0.00032806396484375\n"
     ]
    }
   ],
   "source": [
    "task10_numpy()\n",
    "task10_iter()"
   ]
  },
  {
   "cell_type": "markdown",
   "id": "510a5aeb-9a8f-4ee9-871b-b7daa4604520",
   "metadata": {},
   "source": [
    "#### Вправа 11. \n",
    "Створити масив одиниць розміром n х n та додати до нього\n",
    "«рамку», сформовану з 0."
   ]
  },
  {
   "cell_type": "code",
   "execution_count": 47,
   "id": "2bec647a-bc61-4c85-b074-f37f1253c144",
   "metadata": {},
   "outputs": [],
   "source": [
    "def task11_numpy():\n",
    "    n = int(input(\"Введіть n: \"))\n",
    "    start = time.time()\n",
    "    arr = np.ones((n, n), dtype=int)\n",
    "    arr = np.pad(arr, 1, constant_values=0)\n",
    "    end = time.time()\n",
    "    print(arr)\n",
    "    print(\"Час виконання (NumPy):\", end - start)\n",
    "\n",
    "def task11_iter():\n",
    "    n = int(input(\"Введіть n: \"))\n",
    "    start = time.time()\n",
    "    arr = [[1]*n for i in range(n)]\n",
    "    arr = [[0]*(n+2)] + [[0]+r+[0] for r in arr] + [[0]*(n+2)]\n",
    "    end = time.time()\n",
    "    for r in arr: print(r)\n",
    "    print(\"Час виконання:\", end - start)"
   ]
  },
  {
   "cell_type": "code",
   "execution_count": 49,
   "id": "93303685-ff24-4434-a069-e84260ca4732",
   "metadata": {},
   "outputs": [
    {
     "name": "stdin",
     "output_type": "stream",
     "text": [
      "Введіть n:  4\n"
     ]
    },
    {
     "name": "stdout",
     "output_type": "stream",
     "text": [
      "[[0 0 0 0 0 0]\n",
      " [0 1 1 1 1 0]\n",
      " [0 1 1 1 1 0]\n",
      " [0 1 1 1 1 0]\n",
      " [0 1 1 1 1 0]\n",
      " [0 0 0 0 0 0]]\n",
      "Час виконання (NumPy): 0.0002372264862060547\n"
     ]
    },
    {
     "name": "stdin",
     "output_type": "stream",
     "text": [
      "Введіть n:  4\n"
     ]
    },
    {
     "name": "stdout",
     "output_type": "stream",
     "text": [
      "[0, 0, 0, 0, 0, 0]\n",
      "[0, 1, 1, 1, 1, 0]\n",
      "[0, 1, 1, 1, 1, 0]\n",
      "[0, 1, 1, 1, 1, 0]\n",
      "[0, 1, 1, 1, 1, 0]\n",
      "[0, 0, 0, 0, 0, 0]\n",
      "Час виконання: 1.3113021850585938e-05\n"
     ]
    }
   ],
   "source": [
    "task11_numpy()\n",
    "task11_iter()"
   ]
  },
  {
   "cell_type": "markdown",
   "id": "746d2677-584f-4e6f-9a59-8911f78d4037",
   "metadata": {},
   "source": [
    "#### Вправа 15. \n",
    "Заповнити парні стовбчики матриці розміром n х n одиницями, а\n",
    "непарні – нулями."
   ]
  },
  {
   "cell_type": "code",
   "execution_count": 50,
   "id": "218f25bf-d31f-4849-bc5c-2926d2540f6f",
   "metadata": {},
   "outputs": [],
   "source": [
    "def task15_numpy():\n",
    "    n = int(input(\"Введіть n: \"))\n",
    "    start = time.time()\n",
    "    arr = np.zeros((n, n), dtype=int)\n",
    "    arr[:, 1::2] = 1\n",
    "    end = time.time()\n",
    "    print(arr)\n",
    "    print(\"Час виконання (NumPy):\", end - start)\n",
    "\n",
    "def task15_iter():\n",
    "    n = int(input(\"Введіть n: \"))\n",
    "    start = time.time()\n",
    "    arr = [[1 if j % 2 else 0 for j in range(n)] for i in range(n)]\n",
    "    end = time.time()\n",
    "    for r in arr: print(r)\n",
    "    print(\"Час виконання:\", end - start)"
   ]
  },
  {
   "cell_type": "code",
   "execution_count": 51,
   "id": "7f7844f8-fe04-4b38-862a-bdb46e49bb48",
   "metadata": {},
   "outputs": [
    {
     "name": "stdin",
     "output_type": "stream",
     "text": [
      "Введіть n:  5\n"
     ]
    },
    {
     "name": "stdout",
     "output_type": "stream",
     "text": [
      "[[0 1 0 1 0]\n",
      " [0 1 0 1 0]\n",
      " [0 1 0 1 0]\n",
      " [0 1 0 1 0]\n",
      " [0 1 0 1 0]]\n",
      "Час виконання (NumPy): 0.0002510547637939453\n"
     ]
    },
    {
     "name": "stdin",
     "output_type": "stream",
     "text": [
      "Введіть n:  5\n"
     ]
    },
    {
     "name": "stdout",
     "output_type": "stream",
     "text": [
      "[0, 1, 0, 1, 0]\n",
      "[0, 1, 0, 1, 0]\n",
      "[0, 1, 0, 1, 0]\n",
      "[0, 1, 0, 1, 0]\n",
      "[0, 1, 0, 1, 0]\n",
      "Час виконання: 3.0994415283203125e-05\n"
     ]
    }
   ],
   "source": [
    "task15_numpy()\n",
    "task15_iter()"
   ]
  },
  {
   "cell_type": "markdown",
   "id": "5421046b-5863-4e59-ba95-6f28d59aa3fb",
   "metadata": {},
   "source": [
    "#### Вправа 17. \n",
    "Заповнити вектор значеннями від 0 до n. Замінити знаки для всіх\n",
    "значеннь, що менші за n/2 та більші за 3n/4 на протилежні"
   ]
  },
  {
   "cell_type": "code",
   "execution_count": 52,
   "id": "53e0d964-a6a7-4e8c-a1b2-7b98eb6409d8",
   "metadata": {},
   "outputs": [],
   "source": [
    "def task17_numpy():\n",
    "    n = int(input(\"Введіть n: \"))\n",
    "    start = time.time()\n",
    "    arr = np.arange(n + 1)\n",
    "    arr[(arr < n/2) | (arr > (3*n)/4)] *= -1\n",
    "    end = time.time()\n",
    "    print(arr)\n",
    "    print(\"Час виконання (NumPy):\", end - start)\n",
    "\n",
    "def task17_iter():\n",
    "    n = int(input(\"Введіть n: \"))\n",
    "    start = time.time()\n",
    "    arr = []\n",
    "    for i in range(n + 1):\n",
    "        if i < n/2 or i > (3*n)/4:\n",
    "            arr.append(-i)\n",
    "        else:\n",
    "            arr.append(i)\n",
    "    end = time.time()\n",
    "    print(arr)\n",
    "    print(\"Час виконання:\", end - start)"
   ]
  },
  {
   "cell_type": "code",
   "execution_count": 53,
   "id": "63c479ce-5bcf-4508-ac29-49152c14dcfe",
   "metadata": {},
   "outputs": [
    {
     "name": "stdin",
     "output_type": "stream",
     "text": [
      "Введіть n:  10\n"
     ]
    },
    {
     "name": "stdout",
     "output_type": "stream",
     "text": [
      "[  0  -1  -2  -3  -4   5   6   7  -8  -9 -10]\n",
      "Час виконання (NumPy): 0.0043599605560302734\n"
     ]
    },
    {
     "name": "stdin",
     "output_type": "stream",
     "text": [
      "Введіть n:  10\n"
     ]
    },
    {
     "name": "stdout",
     "output_type": "stream",
     "text": [
      "[0, -1, -2, -3, -4, 5, 6, 7, -8, -9, -10]\n",
      "Час виконання: 1.2874603271484375e-05\n"
     ]
    }
   ],
   "source": [
    "task17_numpy()\n",
    "task17_iter()"
   ]
  },
  {
   "cell_type": "markdown",
   "id": "5f3b1373-dc7a-4a4d-8cbb-4188056c54f8",
   "metadata": {},
   "source": [
    "#### Вправа 18. \n",
    "Згенерувати вектор з n випадкових чисел в діапазоні від 0 до 99.\n",
    "Визначити кількість унікальних чисел в послідовності."
   ]
  },
  {
   "cell_type": "code",
   "execution_count": 55,
   "id": "ebaeadc0-e528-4cf8-9269-336d9be06060",
   "metadata": {},
   "outputs": [],
   "source": [
    "def task18_numpy():\n",
    "    n = int(input(\"Введіть n: \"))\n",
    "    start = time.time()\n",
    "    arr = np.random.randint(0, 100, n)\n",
    "    unique = len(np.unique(arr))\n",
    "    end = time.time()\n",
    "    print(\"Масив:\", arr)\n",
    "    print(\"Унікальних чисел:\", unique)\n",
    "    print(\"Час виконання (NumPy):\", end - start)\n",
    "\n",
    "def task18_iter():\n",
    "    n = int(input(\"Введіть n: \"))\n",
    "    start = time.time()\n",
    "    arr = [random.randint(0, 99) for i in range(n)]\n",
    "    unique = len(set(arr))\n",
    "    end = time.time()\n",
    "    print(\"Масив:\", arr)\n",
    "    print(\"Унікальних чисел:\", unique)\n",
    "    print(\"Час виконання:\", end - start)"
   ]
  },
  {
   "cell_type": "code",
   "execution_count": 56,
   "id": "e981bebe-07f6-483d-947e-965e95344948",
   "metadata": {},
   "outputs": [
    {
     "name": "stdin",
     "output_type": "stream",
     "text": [
      "Введіть n:  30\n"
     ]
    },
    {
     "name": "stdout",
     "output_type": "stream",
     "text": [
      "Масив: [75 42 61 90 29 33 36 54 36 67 68 35 57 12 64 65 51 15 92 42 68 82 18 58\n",
      " 27 76 94 76 97 74]\n",
      "Унікальних чисел: 26\n",
      "Час виконання (NumPy): 0.005986928939819336\n"
     ]
    },
    {
     "name": "stdin",
     "output_type": "stream",
     "text": [
      "Введіть n:  30\n"
     ]
    },
    {
     "name": "stdout",
     "output_type": "stream",
     "text": [
      "Масив: [68, 19, 70, 87, 84, 37, 60, 31, 74, 5, 97, 0, 58, 22, 53, 39, 53, 83, 0, 45, 67, 13, 9, 96, 20, 72, 82, 45, 88, 12]\n",
      "Унікальних чисел: 27\n",
      "Час виконання: 0.0015621185302734375\n"
     ]
    }
   ],
   "source": [
    "task18_numpy()\n",
    "task18_iter()"
   ]
  },
  {
   "cell_type": "markdown",
   "id": "2dc3638b-c40e-41c6-abad-61c999b1104e",
   "metadata": {},
   "source": [
    "### Завдання 2 \n",
    "\n",
    "2. Розв’язати систему за допомогою формул Крамера і виконати перевірку за\n",
    "допомогою:\n",
    "a) матричного множення;\n",
    "b) оберненої матриці;\n",
    "c) функції numpy.linalg.solve().\n",
    "Порівняти всі рішення за допомогою функції numpy.allclose()\n",
    "\n",
    "$$\n",
    "\\begin{cases}\n",
    "x_1 + x_2 + 2x_3 + 3x_4 = 1 \\\\\n",
    "3x_1 - x_2 - x_3 - 2x_4 = -4 \\\\\n",
    "2x_1 - 3x_2 - x_3 - x_4 = -6 \\\\\n",
    "x_1 + 2x_2 + 3x_3 - x_4 = -4\n",
    "\\end{cases}\n",
    "$$"
   ]
  },
  {
   "cell_type": "code",
   "execution_count": 58,
   "id": "05e0f033-4f45-4157-9c96-d370a2410522",
   "metadata": {},
   "outputs": [],
   "source": [
    "A = np.array([\n",
    "    [1, 1, 2, 3],\n",
    "    [3, -1, -1, -2],\n",
    "    [2, -3, -1, -1],\n",
    "    [1, 2, 3, -1]\n",
    "], dtype=float)\n",
    "\n",
    "B = np.array([1, -4, -6, -4], dtype=float)\n",
    "\n",
    "def cramer(A, B):\n",
    "    det_a = np.linalg.det(A)\n",
    "    if det_a == 0:\n",
    "        raise ValueError(\"Визначник A дорівнює нулю. Правило Крамера не можна застосувати.\")\n",
    "    n = len(B)\n",
    "    x = np.zeros(n)\n",
    "    for i in range(n):\n",
    "        a_i = A.copy()\n",
    "        a_i[:, i] = B\n",
    "        x[i] = np.linalg.det(a_i) / det_a\n",
    "    return x"
   ]
  },
  {
   "cell_type": "code",
   "execution_count": 59,
   "id": "aacd7dd5-be2f-4ca1-b26b-41d091ab4842",
   "metadata": {},
   "outputs": [
    {
     "name": "stdout",
     "output_type": "stream",
     "text": [
      "Розв’язок системи за формулами Крамера:\n",
      "[-0.55555556  1.88888889 -2.          1.22222222]\n"
     ]
    }
   ],
   "source": [
    "x = cramer(A, B)\n",
    "print(\"Розв’язок системи за формулами Крамера:\")\n",
    "print(x)"
   ]
  },
  {
   "cell_type": "code",
   "execution_count": 60,
   "id": "4927013c-b8a0-4390-bebd-b73924811dab",
   "metadata": {},
   "outputs": [
    {
     "name": "stdout",
     "output_type": "stream",
     "text": [
      "Перевірка через матричне множення (Ax):\n",
      "[ 1. -4. -6. -4.]\n"
     ]
    }
   ],
   "source": [
    "check = A @ x\n",
    "print(\"Перевірка через матричне множення (Ax):\")\n",
    "print(check)"
   ]
  },
  {
   "cell_type": "code",
   "execution_count": 61,
   "id": "dbd95195-e4b2-4b7f-8c86-ecea139e890f",
   "metadata": {},
   "outputs": [
    {
     "name": "stdout",
     "output_type": "stream",
     "text": [
      "Розв’язок через обернену матрицю:\n",
      "[-0.55555556  1.88888889 -2.          1.22222222]\n"
     ]
    }
   ],
   "source": [
    "cramer2 = np.linalg.inv(A) @ B\n",
    "print(\"Розв’язок через обернену матрицю:\")\n",
    "print(cramer2)"
   ]
  },
  {
   "cell_type": "code",
   "execution_count": 62,
   "id": "74cc7d68-bae9-4f70-9277-5ad42e99a42f",
   "metadata": {},
   "outputs": [
    {
     "name": "stdout",
     "output_type": "stream",
     "text": [
      "Розв’язок через numpy.linalg.solve():\n",
      "[-0.55555556  1.88888889 -2.          1.22222222]\n"
     ]
    }
   ],
   "source": [
    "cramer3 = np.linalg.solve(A, B)\n",
    "print(\"Розв’язок через numpy.linalg.solve():\")\n",
    "print(cramer3)"
   ]
  },
  {
   "cell_type": "code",
   "execution_count": 63,
   "id": "30c99518-a545-4f08-9db0-a483e8ca1b5f",
   "metadata": {},
   "outputs": [
    {
     "name": "stdout",
     "output_type": "stream",
     "text": [
      "Крамер == обернена: True\n",
      "Крамер == numpy: True\n",
      "обернена == numpy: True\n"
     ]
    }
   ],
   "source": [
    "print(\"Крамер == обернена:\", np.allclose(x, cramer2))\n",
    "print(\"Крамер == numpy:\", np.allclose(x, cramer3))\n",
    "print(\"обернена == numpy:\", np.allclose(x, cramer3))"
   ]
  },
  {
   "cell_type": "markdown",
   "id": "79473b7a-06e5-4846-9c4a-030ba6e87657",
   "metadata": {},
   "source": [
    "### Завдання 3\n",
    "\n",
    "**Постановка задачі:**\n",
    "\n",
    "Обчислити значення матричного виразу\n",
    "\n",
    "2(A + B)(2B - A)\n",
    "\n",
    "$$\n",
    "A = \\begin{pmatrix}\n",
    "2 & 3 & -1 \\\\\n",
    "4 & 5 & 2 \\\\\n",
    "-1 & 0 & 7\n",
    "\\end{pmatrix}\n",
    "$$\n",
    "\n",
    "$$\n",
    "B = \\begin{pmatrix}\n",
    "-1 & 0 & 5 \\\\\n",
    "0 & 1 & 3 \\\\\n",
    "2 & -2 & 4\n",
    "\\end{pmatrix}\n",
    "$$\n",
    "\n",
    "а) з використанням універсальних функцій бібліотеки NumPy  \n",
    "b) за допомогою ітеративних конструкцій (циклів або спискових включень)  \n",
    "c) для обох випадків підрахувати час виконання скрипту та зробити висновок.  \n",
    "\n",
    "Порівняти результати за допомогою `numpy.allclose()`."
   ]
  },
  {
   "cell_type": "code",
   "execution_count": 70,
   "id": "a2932161-f0cd-45c0-b743-b0639d969c7c",
   "metadata": {},
   "outputs": [
    {
     "name": "stdout",
     "output_type": "stream",
     "text": [
      "Результат через NumPy:\n",
      " [[   8.  -56.   54.]\n",
      " [ -30. -100.  146.]\n",
      " [ 118.  -82.   28.]]\n",
      "Час виконання NumPy: 0.0003502368927001953\n"
     ]
    }
   ],
   "source": [
    "A = np.array([[2, 3, -1],\n",
    "                  [4, 5, 2],\n",
    "                  [-1, 0, 7]], dtype=float)\n",
    "\n",
    "B = np.array([[-1, 0, 5],\n",
    "                  [0, 1, 3],\n",
    "                  [2, -2, 4]], dtype=float)\n",
    "\n",
    "start = time.time()\n",
    "result_numpy = 2 * (A + B) @ (2*B - A)\n",
    "end = time.time()\n",
    "\n",
    "print(\"Результат через NumPy:\\n\", result_numpy)\n",
    "print(\"Час виконання NumPy:\", end - start)"
   ]
  },
  {
   "cell_type": "code",
   "execution_count": 71,
   "id": "e48d5c12-cfac-46d3-a9ff-f3113324c6fa",
   "metadata": {},
   "outputs": [
    {
     "name": "stdout",
     "output_type": "stream",
     "text": [
      "Результат:\n",
      "[8, -56, 54]\n",
      "[-30, -100, 146]\n",
      "[118, -82, 28]\n",
      "Час виконання: 0.0003502368927001953\n"
     ]
    }
   ],
   "source": [
    "A = [[2, 3, -1], [4, 5, 2], [-1, 0, 7]]\n",
    "B = [[-1, 0, 5], [0, 1, 3], [2, -2, 4]]\n",
    "\n",
    "C = []\n",
    "for i in range(3):\n",
    "    row = []\n",
    "    for j in range(3):\n",
    "        row.append(2 * (A[i][j] + B[i][j]))\n",
    "    C.append(row)\n",
    "\n",
    "D = []\n",
    "for i in range(3):\n",
    "    row = []\n",
    "    for j in range(3):\n",
    "        row.append(2 * B[i][j] - A[i][j])\n",
    "    D.append(row)\n",
    "\n",
    "result = []\n",
    "for i in range(3):\n",
    "    row = []\n",
    "    for j in range(3):\n",
    "        suma = 0\n",
    "        for k in range(3):\n",
    "            suma += C[i][k] * D[k][j]\n",
    "        row.append(suma)\n",
    "    result.append(row)\n",
    "\n",
    "print(\"Результат:\")\n",
    "for row in result:\n",
    "    print(row)\n",
    "print(\"Час виконання:\", end - start)"
   ]
  },
  {
   "cell_type": "code",
   "execution_count": 72,
   "id": "b2fcb9ea-ba26-44dd-a220-cef83724fa21",
   "metadata": {},
   "outputs": [
    {
     "name": "stdout",
     "output_type": "stream",
     "text": [
      "Порівняння:  True\n"
     ]
    }
   ],
   "source": [
    "print(\"Порівняння: \", np.allclose(result_numpy, result))"
   ]
  }
 ],
 "metadata": {
  "kernelspec": {
   "display_name": "Python 3 (ipykernel)",
   "language": "python",
   "name": "python3"
  },
  "language_info": {
   "codemirror_mode": {
    "name": "ipython",
    "version": 3
   },
   "file_extension": ".py",
   "mimetype": "text/x-python",
   "name": "python",
   "nbconvert_exporter": "python",
   "pygments_lexer": "ipython3",
   "version": "3.11.9"
  }
 },
 "nbformat": 4,
 "nbformat_minor": 5
}
