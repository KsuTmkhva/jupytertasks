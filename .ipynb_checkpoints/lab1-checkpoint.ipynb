{
 "cells": [
  {
   "cell_type": "code",
   "execution_count": 3,
   "id": "8450f069-4c51-478a-ac36-5ab048bf8dfa",
   "metadata": {},
   "outputs": [
    {
     "name": "stdout",
     "output_type": "stream",
     "text": [
      "5\n"
     ]
    }
   ],
   "source": [
    "N = ord(\"T\") % 10 + 1\n",
    "print(f\"{N}\")"
   ]
  },
  {
   "cell_type": "markdown",
   "id": "a990532d-7cb0-469d-a810-4f1e6a731557",
   "metadata": {},
   "source": [
    "# Гана \n",
    "*Гана — західноафриканська країна, що знаходиться на північному узбережжі Гвінейської затоки.* \n",
    "\n",
    "![Гана на карті](https://upload.wikimedia.org/wikipedia/commons/thumb/3/30/Ghana_%28orthographic_projection%29.svg/250px-Ghana_%28orthographic_projection%29.svg.png)\n",
    "\n",
    "## Площина \n",
    "*238 533 км²* \n",
    "\n",
    "## Населення \n",
    "*34,43 мільйона (2024)* \n",
    "\n",
    "**Політична система Гана** за формою правління є <span style=\"color:red;\">президентською республікою</span>, глава держави — <span style=\"color:red;\">президент</span>. Державний устрій — <span style=\"color:red;\">унітарна держава</span>. \n",
    "\n",
    "**Кофі Аннан** - колишній генеральний секретар ООН та лауреат Нобелівської премії миру. \n",
    "## Пам'ятки культури \n",
    "Гана славиться своїми історичними фортецями та замками: \n",
    "- Пам'ятки ЮНЕСКО:\n",
    "    - Замок Ельміна\n",
    "    - Замок Кейп-Кост\n",
    "\n",
    "<div style=\"border: 1px solid black; padding: 10px;\">Природа Гани характеризується субекваторіальним кліматом, який формує два основні ландшафти: на півдні – тропічні ліси з високою вологістю, а на півночі – посушливі савани та чагарники. </div>\n",
    "\n",
    "|Характеристика    | Дані            |\n",
    "|:----------------:| :--------------:|\n",
    "| Столиця          | Аккра           |\n",
    "| Мова             | Англійська      |\n",
    "| Валюта           | Ганський седі   |\n",
    "\n",
    "\n",
    "<img src=\"ghana.png\" width=\"200\">\n",
    "\n",
    "[Детальніше про Гану](https://uk.wikipedia.org/wiki/Гана)"
   ]
  },
  {
   "cell_type": "code",
   "execution_count": 118,
   "id": "842f51bb-cff7-43d9-bf6b-ed353011c461",
   "metadata": {},
   "outputs": [
    {
     "data": {
      "text/html": [
       "<svg width=\"300\" height=\"200\"> \n",
       "    <rect width=\"300\" x=\"0\" y=\"0\" height=\"50\" fill=\"#ce1226\"/>\n",
       "    <rect width=\"300\" x=\"0\" y=\"50\" height=\"50\" fill=\"#fcd116\"/>\n",
       "    <rect width=\"300\" x=\"0\" y=\"100\" height=\"50\" fill=\"#016b3f\"/>\n",
       "    <polygon points=\"150,50 155,68 173,68 160,80 167,100 150,87 133,100 140,80 127,68 145,68\">\n",
       "</svg>\n"
      ],
      "text/plain": [
       "<IPython.core.display.HTML object>"
      ]
     },
     "metadata": {},
     "output_type": "display_data"
    }
   ],
   "source": [
    "%%HTML\n",
    "<svg width=\"300\" height=\"200\"> \n",
    "    <rect width=\"300\" x=\"0\" y=\"0\" height=\"50\" fill=\"#ce1226\"/>\n",
    "    <rect width=\"300\" x=\"0\" y=\"50\" height=\"50\" fill=\"#fcd116\"/>\n",
    "    <rect width=\"300\" x=\"0\" y=\"100\" height=\"50\" fill=\"#016b3f\"/>\n",
    "    <polygon points=\"150,50 155,68 173,68 160,80 167,100 150,87 133,100 140,80 127,68 145,68\">\n",
    "</svg>"
   ]
  }
 ],
 "metadata": {
  "kernelspec": {
   "display_name": "Python 3 (ipykernel)",
   "language": "python",
   "name": "python3"
  },
  "language_info": {
   "codemirror_mode": {
    "name": "ipython",
    "version": 3
   },
   "file_extension": ".py",
   "mimetype": "text/x-python",
   "name": "python",
   "nbconvert_exporter": "python",
   "pygments_lexer": "ipython3",
   "version": "3.11.9"
  }
 },
 "nbformat": 4,
 "nbformat_minor": 5
}
