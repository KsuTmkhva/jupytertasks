{
 "cells": [
  {
   "cell_type": "code",
   "execution_count": 1,
   "id": "9afad305-1b94-4687-a522-c9f4f113d755",
   "metadata": {},
   "outputs": [
    {
     "name": "stdout",
     "output_type": "stream",
     "text": [
      "1\n"
     ]
    }
   ],
   "source": [
    "N = ord(\"T\") % 3 + 1\n",
    "print(f\"{N}\")"
   ]
  },
  {
   "cell_type": "code",
   "execution_count": 7,
   "id": "84dd0d4d-1af7-4495-bafa-fca04f4b5492",
   "metadata": {},
   "outputs": [],
   "source": [
    "import math\n",
    "\n",
    "class Point:\n",
    "    def __init__(self, x, y):\n",
    "        self.x = x\n",
    "        self.y = y\n",
    "\n",
    "    def __str__(self):\n",
    "        return f\"x = {self.x}, y = {self.y}\"\n",
    "\n",
    "class ParallelLinesError(Exception):\n",
    "    def __init__(self):\n",
    "        super().__init__(\"Lines are parallel, no intersection\")\n",
    "\n",
    "\n",
    "class CoincidentLinesError(Exception):\n",
    "    def __init__(self):\n",
    "        super().__init__(\"Lines are coincident, infinite intersections\")\n",
    "        \n",
    "class Line:\n",
    "    def __init__(self, k, b):\n",
    "        self.k = k\n",
    "        self.b = b\n",
    "\n",
    "    def __str__(self):\n",
    "        return f\"y = {self.k} * x + {self.b}\"\n",
    "\n",
    "    def intersection(self, other):\n",
    "        if self.k == other.k:\n",
    "            if self.b == other.b:\n",
    "                raise CoincidentLinesError()\n",
    "            else:\n",
    "                raise ParallelLinesError()\n",
    "        else:\n",
    "            x = (other.b - self.b)/(self.k - other.k)\n",
    "            y = self.k * x + self.b\n",
    "            return Point(x, y)\n",
    "\n",
    "    def is_perpendicular(self, other):\n",
    "        if self.k * other.k == -1.0:\n",
    "            return True\n",
    "        else:\n",
    "            return False\n",
    "\n",
    "    def distance_from_point(self, point):\n",
    "        A = self.k\n",
    "        B = -1\n",
    "        C = self.b\n",
    "        distance = abs(A * point.x + B * point.y + C) / math.sqrt(A**2 + B**2)\n",
    "        return round(distance, 3)"
   ]
  },
  {
   "cell_type": "code",
   "execution_count": 3,
   "id": "779f8ce3-4a37-4f28-8dda-1a0086bb221a",
   "metadata": {},
   "outputs": [
    {
     "name": "stdout",
     "output_type": "stream",
     "text": [
      "2 3\n",
      "x = 2, y = 3\n"
     ]
    }
   ],
   "source": [
    "a = Point(2,3)\n",
    "print(a.x, a.y)\n",
    "print(a)"
   ]
  },
  {
   "cell_type": "code",
   "execution_count": 4,
   "id": "d4e72144-a57a-4997-ae5f-043f9be1633f",
   "metadata": {},
   "outputs": [
    {
     "name": "stdout",
     "output_type": "stream",
     "text": [
      "y = 3 * x + 3\n",
      "y = 2 * x + 5\n"
     ]
    }
   ],
   "source": [
    "line1 = Line(3,3)\n",
    "line2 = Line(2,5)\n",
    "print(line1)\n",
    "print(line2)"
   ]
  },
  {
   "cell_type": "code",
   "execution_count": 5,
   "id": "cb79c43d-5d44-4f12-b11b-ee019d0e49ed",
   "metadata": {},
   "outputs": [
    {
     "name": "stdout",
     "output_type": "stream",
     "text": [
      "x = 2.0, y = 9.0\n"
     ]
    }
   ],
   "source": [
    "line1 = Line(3,3)\n",
    "line2 = Line(2,5)\n",
    "print(line1.intersection(line2))"
   ]
  },
  {
   "cell_type": "code",
   "execution_count": 6,
   "id": "da89bd71-7c9b-4ac6-9919-a158856de8f7",
   "metadata": {},
   "outputs": [
    {
     "ename": "ParallelLinesError",
     "evalue": "Lines are parallel, no intersection",
     "output_type": "error",
     "traceback": [
      "\u001b[31m---------------------------------------------------------------------------\u001b[39m",
      "\u001b[31mParallelLinesError\u001b[39m                        Traceback (most recent call last)",
      "\u001b[36mCell\u001b[39m\u001b[36m \u001b[39m\u001b[32mIn[6]\u001b[39m\u001b[32m, line 3\u001b[39m\n\u001b[32m      1\u001b[39m line1 = Line(\u001b[32m2\u001b[39m,\u001b[32m3\u001b[39m)\n\u001b[32m      2\u001b[39m line2 = Line(\u001b[32m2\u001b[39m,\u001b[32m5\u001b[39m)\n\u001b[32m----> \u001b[39m\u001b[32m3\u001b[39m \u001b[38;5;28mprint\u001b[39m(\u001b[43mline1\u001b[49m\u001b[43m.\u001b[49m\u001b[43mintersection\u001b[49m\u001b[43m(\u001b[49m\u001b[43mline2\u001b[49m\u001b[43m)\u001b[49m)\n\u001b[32m      4\u001b[39m \u001b[38;5;28mprint\u001b[39m(line1)\n\u001b[32m      5\u001b[39m \u001b[38;5;28mprint\u001b[39m(line2)\n",
      "\u001b[36mCell\u001b[39m\u001b[36m \u001b[39m\u001b[32mIn[2]\u001b[39m\u001b[32m, line 33\u001b[39m, in \u001b[36mLine.intersection\u001b[39m\u001b[34m(self, other)\u001b[39m\n\u001b[32m     31\u001b[39m         \u001b[38;5;28;01mraise\u001b[39;00m CoincidentLinesError()\n\u001b[32m     32\u001b[39m     \u001b[38;5;28;01melse\u001b[39;00m:\n\u001b[32m---> \u001b[39m\u001b[32m33\u001b[39m         \u001b[38;5;28;01mraise\u001b[39;00m ParallelLinesError()\n\u001b[32m     34\u001b[39m \u001b[38;5;28;01melse\u001b[39;00m:\n\u001b[32m     35\u001b[39m     x = (other.b - \u001b[38;5;28mself\u001b[39m.b)/(\u001b[38;5;28mself\u001b[39m.k - other.k)\n",
      "\u001b[31mParallelLinesError\u001b[39m: Lines are parallel, no intersection"
     ]
    }
   ],
   "source": [
    "line1 = Line(2,3)\n",
    "line2 = Line(2,5)\n",
    "print(line1.intersection(line2))\n",
    "print(line1)\n",
    "print(line2)"
   ]
  },
  {
   "cell_type": "code",
   "execution_count": 8,
   "id": "d369f046-a389-46a1-9f91-a569c0d5d6b6",
   "metadata": {},
   "outputs": [
    {
     "name": "stdout",
     "output_type": "stream",
     "text": [
      "y = 3 * x + 4\n"
     ]
    }
   ],
   "source": [
    "line1 = Line(3,4)\n",
    "print(line1)"
   ]
  },
  {
   "cell_type": "code",
   "execution_count": 9,
   "id": "d6ee0d18-e2e1-4cae-b20a-fcb439c2d925",
   "metadata": {},
   "outputs": [
    {
     "data": {
      "text/plain": [
       "1.789"
      ]
     },
     "execution_count": 9,
     "metadata": {},
     "output_type": "execute_result"
    }
   ],
   "source": [
    "l1 = Line(2, 3)\n",
    "l1.distance_from_point(Point(2,3))"
   ]
  },
  {
   "cell_type": "code",
   "execution_count": 10,
   "id": "28abb9ff-0719-45f7-8298-1ac9007aec37",
   "metadata": {},
   "outputs": [
    {
     "ename": "CoincidentLinesError",
     "evalue": "Lines are coincident, infinite intersections",
     "output_type": "error",
     "traceback": [
      "\u001b[31m---------------------------------------------------------------------------\u001b[39m",
      "\u001b[31mCoincidentLinesError\u001b[39m                      Traceback (most recent call last)",
      "\u001b[36mCell\u001b[39m\u001b[36m \u001b[39m\u001b[32mIn[10]\u001b[39m\u001b[32m, line 3\u001b[39m\n\u001b[32m      1\u001b[39m l1 = Line(\u001b[32m2\u001b[39m, \u001b[32m3\u001b[39m)\n\u001b[32m      2\u001b[39m l2 = Line(\u001b[32m2\u001b[39m, \u001b[32m3\u001b[39m)\n\u001b[32m----> \u001b[39m\u001b[32m3\u001b[39m \u001b[43ml1\u001b[49m\u001b[43m.\u001b[49m\u001b[43mintersection\u001b[49m\u001b[43m(\u001b[49m\u001b[43ml2\u001b[49m\u001b[43m)\u001b[49m\n",
      "\u001b[36mCell\u001b[39m\u001b[36m \u001b[39m\u001b[32mIn[7]\u001b[39m\u001b[32m, line 31\u001b[39m, in \u001b[36mLine.intersection\u001b[39m\u001b[34m(self, other)\u001b[39m\n\u001b[32m     29\u001b[39m \u001b[38;5;28;01mif\u001b[39;00m \u001b[38;5;28mself\u001b[39m.k == other.k:\n\u001b[32m     30\u001b[39m     \u001b[38;5;28;01mif\u001b[39;00m \u001b[38;5;28mself\u001b[39m.b == other.b:\n\u001b[32m---> \u001b[39m\u001b[32m31\u001b[39m         \u001b[38;5;28;01mraise\u001b[39;00m CoincidentLinesError()\n\u001b[32m     32\u001b[39m     \u001b[38;5;28;01melse\u001b[39;00m:\n\u001b[32m     33\u001b[39m         \u001b[38;5;28;01mraise\u001b[39;00m ParallelLinesError()\n",
      "\u001b[31mCoincidentLinesError\u001b[39m: Lines are coincident, infinite intersections"
     ]
    }
   ],
   "source": [
    "l1 = Line(2, 3)\n",
    "l2 = Line(2, 3)\n",
    "l1.intersection(l2)"
   ]
  },
  {
   "cell_type": "code",
   "execution_count": 11,
   "id": "4a9870bc-7e01-4caf-b077-32293b69d79d",
   "metadata": {},
   "outputs": [
    {
     "data": {
      "text/plain": [
       "True"
      ]
     },
     "execution_count": 11,
     "metadata": {},
     "output_type": "execute_result"
    }
   ],
   "source": [
    "l1 = Line(1, 3)\n",
    "l2 = Line(-1, 3)\n",
    "l1.is_perpendicular(l2)"
   ]
  },
  {
   "cell_type": "code",
   "execution_count": null,
   "id": "a7b558a8-01ea-456e-9325-5c13abab37a9",
   "metadata": {},
   "outputs": [],
   "source": []
  }
 ],
 "metadata": {
  "kernelspec": {
   "display_name": "Python 3 (ipykernel)",
   "language": "python",
   "name": "python3"
  },
  "language_info": {
   "codemirror_mode": {
    "name": "ipython",
    "version": 3
   },
   "file_extension": ".py",
   "mimetype": "text/x-python",
   "name": "python",
   "nbconvert_exporter": "python",
   "pygments_lexer": "ipython3",
   "version": "3.11.9"
  }
 },
 "nbformat": 4,
 "nbformat_minor": 5
}
