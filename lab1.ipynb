{
 "cells": [
  {
   "cell_type": "code",
   "execution_count": 3,
   "id": "8450f069-4c51-478a-ac36-5ab048bf8dfa",
   "metadata": {},
   "outputs": [
    {
     "name": "stdout",
     "output_type": "stream",
     "text": [
      "5\n"
     ]
    }
   ],
   "source": [
    "N = ord(\"T\") % 10 + 1\n",
    "print(f\"{N}\")"
   ]
  },
  {
   "cell_type": "markdown",
   "id": "a990532d-7cb0-469d-a810-4f1e6a731557",
   "metadata": {},
   "source": [
    "# Гана \n",
    "*Гана — західноафриканська країна, що знаходиться на північному узбережжі Гвінейської затоки.* \n",
    "\n",
    "![Гана на карті](https://upload.wikimedia.org/wikipedia/commons/thumb/3/30/Ghana_%28orthographic_projection%29.svg/250px-Ghana_%28orthographic_projection%29.svg.png)\n",
    "\n",
    "## Площина \n",
    "*238 533 км²* \n",
    "\n",
    "## Населення \n",
    "*34,43 мільйона (2024)* \n",
    "\n",
    "**Політична система Гана** за формою правління є <span style=\"color:red;\">президентською республікою</span>, глава держави — <span style=\"color:red;\">президент</span>. Державний устрій — <span style=\"color:red;\">унітарна держава</span>. \n",
    "\n",
    "**Кофі Аннан** - колишній генеральний секретар ООН та лауреат Нобелівської премії миру. \n",
    "## Пам'ятки культури \n",
    "Гана славиться своїми історичними фортецями та замками: \n",
    "- Пам'ятки ЮНЕСКО:\n",
    "    - Замок Ельміна\n",
    "    - Замок Кейп-Кост\n",
    "\n",
    "<div style=\"border: 1px solid black; padding: 10px;\">Природа Гани характеризується субекваторіальним кліматом, який формує два основні ландшафти: на півдні – тропічні ліси з високою вологістю, а на півночі – посушливі савани та чагарники. </div>\n",
    "\n",
    "|Характеристика    | Дані            |\n",
    "|:----------------:| :--------------:|\n",
    "| Столиця          | Аккра           |\n",
    "| Мова             | Англійська      |\n",
    "| Валюта           | Ганський седі   |\n",
    "\n",
    "![Гана](ghana.png)\n",
    "\n",
    "[Детальніше про Гану](https://uk.wikipedia.org/wiki/Гана)"
   ]
  },
  {
   "cell_type": "code",
   "execution_count": 5,
   "id": "842f51bb-cff7-43d9-bf6b-ed353011c461",
   "metadata": {},
   "outputs": [
    {
     "data": {
      "text/html": [
       "<svg width=\"300\" height=\"200\"> \n",
       "    <rect width=\"300\" x=\"0\" y=\"0\" height=\"50\" fill=\"#ce1226\"/>\n",
       "    <rect width=\"300\" x=\"0\" y=\"50\" height=\"50\" fill=\"#fcd116\"/>\n",
       "    <rect width=\"300\" x=\"0\" y=\"100\" height=\"50\" fill=\"#016b3f\"/>\n",
       "    <polygon points=\"150,50 155,68 173,68 160,80 167,100 150,87 133,100 140,80 127,68 145,68\">\n",
       "</svg>\n"
      ],
      "text/plain": [
       "<IPython.core.display.HTML object>"
      ]
     },
     "metadata": {},
     "output_type": "display_data"
    }
   ],
   "source": [
    "%%HTML\n",
    "<svg width=\"300\" height=\"200\"> \n",
    "    <rect width=\"300\" x=\"0\" y=\"0\" height=\"50\" fill=\"#ce1226\"/>\n",
    "    <rect width=\"300\" x=\"0\" y=\"50\" height=\"50\" fill=\"#fcd116\"/>\n",
    "    <rect width=\"300\" x=\"0\" y=\"100\" height=\"50\" fill=\"#016b3f\"/>\n",
    "    <polygon points=\"150,50 155,68 173,68 160,80 167,100 150,87 133,100 140,80 127,68 145,68\">\n",
    "</svg>"
   ]
  },
  {
   "cell_type": "code",
   "execution_count": 6,
   "id": "0c4ac9b0-4ce3-449c-baeb-59457c866247",
   "metadata": {},
   "outputs": [],
   "source": [
    "def task_5():\n",
    "    try:\n",
    "        k = int(input(\"Введіть номер простого числа: \"))\n",
    "        if k <= 0:\n",
    "            print(\"Номер має бути додатним\")\n",
    "            return\n",
    "    except ValueError:\n",
    "         print(\"Введіть ціле число\")\n",
    "         return\n",
    "\n",
    "    primes_nums = []\n",
    "    num = 2\n",
    "    count = 0\n",
    "\n",
    "    while count < k:\n",
    "        num_is_prime = True\n",
    "        for i in primes_nums:\n",
    "            if num % i == 0:\n",
    "                num_is_prime = False\n",
    "                break\n",
    "        if num_is_prime:\n",
    "            primes_nums.append(num)\n",
    "            count += 1\n",
    "        num += 1\n",
    "        \n",
    "    print(f\"{k}-те просте число - це {primes_nums[-1]}\")\n"
   ]
  },
  {
   "cell_type": "code",
   "execution_count": 7,
   "id": "21b9b563-c6b6-498a-ba6b-ba2a43dfe7b7",
   "metadata": {},
   "outputs": [
    {
     "name": "stdin",
     "output_type": "stream",
     "text": [
      "Введіть номер простого числа:  1\n"
     ]
    },
    {
     "name": "stdout",
     "output_type": "stream",
     "text": [
      "1-те просте число - це 2\n"
     ]
    }
   ],
   "source": [
    "task_5()"
   ]
  },
  {
   "cell_type": "code",
   "execution_count": 8,
   "id": "cba9130b-c1d6-4b8c-9944-6595882a41b1",
   "metadata": {},
   "outputs": [
    {
     "name": "stdin",
     "output_type": "stream",
     "text": [
      "Введіть номер простого числа:  2\n"
     ]
    },
    {
     "name": "stdout",
     "output_type": "stream",
     "text": [
      "2-те просте число - це 3\n"
     ]
    }
   ],
   "source": [
    "task_5()"
   ]
  },
  {
   "cell_type": "code",
   "execution_count": 21,
   "id": "44a82577-3462-40e4-9002-4ef1a275a532",
   "metadata": {},
   "outputs": [
    {
     "name": "stdin",
     "output_type": "stream",
     "text": [
      "Введіть номер простого числа:  34\n"
     ]
    },
    {
     "name": "stdout",
     "output_type": "stream",
     "text": [
      "34-те просте число - це 139\n"
     ]
    }
   ],
   "source": [
    "task_5()"
   ]
  },
  {
   "cell_type": "code",
   "execution_count": null,
   "id": "afddce59-b50a-4ab3-8713-e95d7b98d586",
   "metadata": {},
   "outputs": [],
   "source": []
  }
 ],
 "metadata": {
  "kernelspec": {
   "display_name": "Python 3 (ipykernel)",
   "language": "python",
   "name": "python3"
  },
  "language_info": {
   "codemirror_mode": {
    "name": "ipython",
    "version": 3
   },
   "file_extension": ".py",
   "mimetype": "text/x-python",
   "name": "python",
   "nbconvert_exporter": "python",
   "pygments_lexer": "ipython3",
   "version": "3.11.9"
  }
 },
 "nbformat": 4,
 "nbformat_minor": 5
}
